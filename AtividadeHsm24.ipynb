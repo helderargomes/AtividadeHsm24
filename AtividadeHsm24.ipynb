{
  "nbformat": 4,
  "nbformat_minor": 0,
  "metadata": {
    "colab": {
      "provenance": [],
      "collapsed_sections": []
    },
    "kernelspec": {
      "name": "python3",
      "display_name": "Python 3"
    },
    "language_info": {
      "name": "python"
    }
  },
  "cells": [
    {
      "cell_type": "code",
      "execution_count": 31,
      "metadata": {
        "id": "S5HiqLVyTm-w"
      },
      "outputs": [],
      "source": [
        "# Importando as bibliotecas \n",
        "import sklearn.datasets as dt\n",
        "from sklearn.cluster import KMeans\n",
        "import matplotlib.pyplot as plt"
      ]
    },
    {
      "cell_type": "code",
      "source": [
        "# Gerando a base de dados aleatória\n",
        "x,y = dt.make_blobs(n_features=2, centers=3, center_box=(0,1))"
      ],
      "metadata": {
        "id": "vxTyc7ykU8hS"
      },
      "execution_count": 27,
      "outputs": []
    },
    {
      "cell_type": "code",
      "source": [
        "# Instanciando o kmeans\n",
        "kmeans = KMeans(n_clusters=3, max_iter=20)"
      ],
      "metadata": {
        "id": "uYcmqK7nVVfo"
      },
      "execution_count": 28,
      "outputs": []
    },
    {
      "cell_type": "code",
      "source": [
        "# Treinamento\n",
        "labels = kmeans.fit_predict(x)"
      ],
      "metadata": {
        "id": "oKUgLAEjYunf"
      },
      "execution_count": 29,
      "outputs": []
    },
    {
      "cell_type": "code",
      "source": [
        "labels"
      ],
      "metadata": {
        "colab": {
          "base_uri": "https://localhost:8080/"
        },
        "id": "JskSn08BY8bG",
        "outputId": "94a12a54-d5e9-41c6-ca18-b90cb4ee6f8d"
      },
      "execution_count": 30,
      "outputs": [
        {
          "output_type": "execute_result",
          "data": {
            "text/plain": [
              "array([1, 0, 1, 2, 1, 2, 1, 0, 0, 0, 0, 1, 2, 0, 2, 2, 1, 0, 1, 1, 2, 1,\n",
              "       2, 0, 1, 2, 1, 1, 1, 2, 2, 1, 0, 1, 2, 1, 2, 0, 2, 0, 1, 1, 1, 0,\n",
              "       1, 0, 1, 2, 2, 0, 0, 1, 2, 0, 1, 2, 1, 1, 1, 0, 1, 0, 1, 2, 0, 1,\n",
              "       0, 1, 1, 2, 1, 1, 2, 2, 2, 0, 0, 2, 1, 1, 1, 0, 0, 1, 2, 0, 1, 0,\n",
              "       1, 0, 1, 1, 1, 2, 2, 2, 1, 2, 1, 0], dtype=int32)"
            ]
          },
          "metadata": {},
          "execution_count": 30
        }
      ]
    },
    {
      "cell_type": "code",
      "source": [
        "# Realizando uma comparação gráfica entre os rótulos preditos com os rótulos verdadeiros.\n",
        "plt.plot(y, color=\"Red\")\n",
        "plt.plot(labels, color=\"blue\")\n",
        "plt.show()"
      ],
      "metadata": {
        "id": "kDxd7QglZBRb"
      },
      "execution_count": null,
      "outputs": []
    }
  ]
}